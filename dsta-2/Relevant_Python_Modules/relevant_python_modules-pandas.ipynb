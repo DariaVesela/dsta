{
  "cells": [
    {
      "cell_type": "markdown",
      "metadata": {},
      "source": [
        "# Relevant Python modules: Pandas\n",
        "\n",
        "AM\n",
        "\n",
        "## Pandas\n",
        "\n",
        "-   Created by Wes McKinney, a ‘quant’ for hedge-fund AQR.\n",
        "\n",
        "-   a library for processing tabular data, both numeric and time series.\n",
        "\n",
        "-   it provides data structures (series, dataframe) and methods for data\n",
        "    analysis.\n",
        "\n",
        "W. McKinney, **Python for Data Analysis**, 3/e. O’Reilly 2022.\n",
        "\n",
        "``` bash\n",
        "pip install pandas\n",
        "```\n",
        "\n",
        "Available by default with Anaconda.\n",
        "\n",
        "## Data Structures - Series\n",
        "\n",
        "A one-dimensional object containing values and associated labels, called\n",
        "Index.\n",
        "\n",
        "Unless we assign indices, Pandas will simply enumerate the items."
      ],
      "id": "1249d37d-cda6-4fc0-8616-eac7790e64f2"
    },
    {
      "cell_type": "code",
      "execution_count": 1,
      "metadata": {},
      "outputs": [],
      "source": [
        "import numpy as np\n",
        "import pandas as pd"
      ],
      "id": "1dcbd876"
    },
    {
      "cell_type": "code",
      "execution_count": 2,
      "metadata": {},
      "outputs": [
        {
          "output_type": "display_data",
          "metadata": {},
          "data": {
            "text/plain": [
              "0    10\n",
              "1    20\n",
              "2    30\n",
              "3    40\n",
              "dtype: int64"
            ]
          }
        }
      ],
      "source": [
        "# a simple series\n",
        "s1 = pd.Series([10, 20, 30, 40])\n",
        "\n",
        "s1"
      ],
      "id": "8b5c9d4b"
    },
    {
      "cell_type": "markdown",
      "metadata": {},
      "source": [
        "------------------------------------------------------------------------"
      ],
      "id": "890cd014-18f2-429b-8088-b1e4fe8c0a26"
    },
    {
      "cell_type": "code",
      "execution_count": 3,
      "metadata": {},
      "outputs": [
        {
          "output_type": "display_data",
          "metadata": {},
          "data": {
            "text/plain": [
              "a    10\n",
              "b    20\n",
              "c    30\n",
              "d    40\n",
              "dtype: int64"
            ]
          }
        }
      ],
      "source": [
        "# Assign explicit indices to our data\n",
        "s2 = pd.Series([10, 20, 30, 40], index = ['a', 'b', 'c', 'd'])\n",
        "\n",
        "s2"
      ],
      "id": "1169ef37"
    },
    {
      "cell_type": "code",
      "execution_count": 4,
      "metadata": {},
      "outputs": [
        {
          "output_type": "display_data",
          "metadata": {},
          "data": {
            "text/plain": [
              "a    10\n",
              "b    20\n",
              "c    30\n",
              "d    40\n",
              "dtype: int64"
            ]
          }
        }
      ],
      "source": [
        "# Alternatively, convert a Py. dictionary into a DataFrame: \n",
        "# keys correspond to indices.\n",
        "d1 = {'a':10, 'b':20, 'c':30, 'd':40}\n",
        "\n",
        "s3 = pd.Series(d1)\n",
        "\n",
        "s3"
      ],
      "id": "8aceba59"
    },
    {
      "cell_type": "markdown",
      "metadata": {},
      "source": [
        "## Data Structures - Series\n",
        "\n",
        "Use the index to select one or more specific values."
      ],
      "id": "c99ea3e5-4ef8-4e9e-b57a-058543c07d12"
    },
    {
      "cell_type": "code",
      "execution_count": 5,
      "metadata": {},
      "outputs": [
        {
          "output_type": "display_data",
          "metadata": {},
          "data": {
            "text/plain": [
              "10"
            ]
          }
        }
      ],
      "source": [
        "# Get the data on position 'a' of s3\n",
        "\n",
        "s3['a']"
      ],
      "id": "643f4798"
    },
    {
      "cell_type": "code",
      "execution_count": 6,
      "metadata": {},
      "outputs": [
        {
          "output_type": "display_data",
          "metadata": {},
          "data": {
            "text/plain": [
              "a    10\n",
              "c    30\n",
              "dtype: int64"
            ]
          }
        }
      ],
      "source": [
        "# Get the data indexed 'a' and 'c' of s3\n",
        "\n",
        "s3[['a', 'c']]"
      ],
      "id": "4ae8f864"
    },
    {
      "cell_type": "markdown",
      "metadata": {},
      "source": [
        "Filter elements"
      ],
      "id": "44a02481-fc89-40fc-9593-d9a8c65dcd7a"
    },
    {
      "cell_type": "code",
      "execution_count": 7,
      "metadata": {},
      "outputs": [
        {
          "output_type": "display_data",
          "metadata": {},
          "data": {
            "text/plain": [
              "a    10\n",
              "b    20\n",
              "dtype: int64"
            ]
          }
        }
      ],
      "source": [
        "# Get the data smaller than 25\n",
        "\n",
        "s3[s3<25]"
      ],
      "id": "7e4da96c"
    },
    {
      "cell_type": "markdown",
      "metadata": {},
      "source": [
        "------------------------------------------------------------------------\n",
        "\n",
        "apply element-wise mathematical operations…"
      ],
      "id": "aefec843-b2b5-4455-9cda-75207a9974ab"
    },
    {
      "cell_type": "code",
      "execution_count": 8,
      "metadata": {},
      "outputs": [
        {
          "output_type": "display_data",
          "metadata": {},
          "data": {
            "text/plain": [
              "a     100\n",
              "b     400\n",
              "c     900\n",
              "d    1600\n",
              "dtype: int64"
            ]
          }
        }
      ],
      "source": [
        "# Square every element of s3\n",
        "\n",
        "s3**2"
      ],
      "id": "718b9e23"
    },
    {
      "cell_type": "markdown",
      "metadata": {},
      "source": [
        "or a combination of both:"
      ],
      "id": "95fef9c8-cf33-4543-b156-4caa9a204441"
    },
    {
      "cell_type": "code",
      "execution_count": 9,
      "metadata": {},
      "outputs": [
        {
          "output_type": "display_data",
          "metadata": {},
          "data": {
            "text/plain": [
              "a    100\n",
              "b    400\n",
              "dtype: int64"
            ]
          }
        }
      ],
      "source": [
        "# Square every element of s3 smaller than 25\n",
        "\n",
        "s3[s3<25]**2"
      ],
      "id": "d423dcc5"
    },
    {
      "cell_type": "markdown",
      "metadata": {},
      "source": [
        "## Data Structures - DataFrame\n",
        "\n",
        "DataFrames are 2D structures.\n",
        "\n",
        "Values are labelled by their index and column location."
      ],
      "id": "53f03fff-e433-45d7-946b-1170d1538319"
    },
    {
      "cell_type": "code",
      "execution_count": 10,
      "metadata": {},
      "outputs": [
        {
          "output_type": "display_data",
          "metadata": {},
          "data": {
            "text/html": [
              "\n",
              "</div>"
            ]
          }
        }
      ],
      "source": [
        "# Notice how we specify columns.\n",
        "new_df = pd.DataFrame([10, 20, 30, 40], \n",
        "                      columns = ['Integers'], \n",
        "                      index = ['a', 'b', 'c', 'd'])\n",
        "\n",
        "new_df"
      ],
      "id": "6683cd1a"
    },
    {
      "cell_type": "markdown",
      "metadata": {},
      "source": [
        "------------------------------------------------------------------------"
      ],
      "id": "5da1d9cf-ed8e-4e52-b286-93a7885f9f81"
    },
    {
      "cell_type": "code",
      "execution_count": 11,
      "metadata": {},
      "outputs": [
        {
          "output_type": "display_data",
          "metadata": {},
          "data": {
            "text/html": [
              "\n",
              "</div>"
            ]
          }
        }
      ],
      "source": [
        "# Implicitly add a column.\n",
        "new_df['Floats'] = (1.5, 2.5, 3.5, 4.5)\n",
        "\n",
        "new_df"
      ],
      "id": "4f4b7e16"
    },
    {
      "cell_type": "markdown",
      "metadata": {},
      "source": [
        "## Data Structures: DataFrame - `loc`\n",
        "\n",
        "Select data according to their location label."
      ],
      "id": "467400c3-659f-40f0-937b-dd22ad4ac4b4"
    },
    {
      "cell_type": "code",
      "execution_count": 12,
      "metadata": {},
      "outputs": [
        {
          "output_type": "display_data",
          "metadata": {},
          "data": {
            "text/plain": [
              "Integers    30.0\n",
              "Floats       3.5\n",
              "Name: c, dtype: float64"
            ]
          }
        }
      ],
      "source": [
        "# here loc slices data using index name.\n",
        "\n",
        "new_df.loc['c'] "
      ],
      "id": "5b9d4755"
    },
    {
      "cell_type": "code",
      "execution_count": 13,
      "metadata": {},
      "outputs": [
        {
          "output_type": "display_data",
          "metadata": {},
          "data": {
            "text/plain": [
              "a    10\n",
              "b    20\n",
              "c    30\n",
              "d    40\n",
              "Name: Integers, dtype: int64"
            ]
          }
        }
      ],
      "source": [
        "# here loc slices data using column name.\n",
        "\n",
        "new_df.loc[:, 'Integers'] #or new_df['numbers']"
      ],
      "id": "bd8ce754"
    },
    {
      "cell_type": "code",
      "execution_count": 14,
      "metadata": {},
      "outputs": [
        {
          "output_type": "display_data",
          "metadata": {},
          "data": {
            "text/plain": [
              "30"
            ]
          }
        }
      ],
      "source": [
        "# here we use both index and column name.\n",
        "\n",
        "new_df.loc['c', 'Integers'] "
      ],
      "id": "91fe9f3f"
    },
    {
      "cell_type": "markdown",
      "metadata": {},
      "source": [
        "## Data Structures: DataFrame - `iloc`\n",
        "\n",
        "Select a specific slice of data according to its position."
      ],
      "id": "8faa4df3-a7da-4932-9813-176e6009183d"
    },
    {
      "cell_type": "code",
      "execution_count": 15,
      "metadata": {},
      "outputs": [
        {
          "output_type": "display_data",
          "metadata": {},
          "data": {
            "text/plain": [
              "Integers    30.0\n",
              "Floats       3.5\n",
              "Name: c, dtype: float64"
            ]
          }
        }
      ],
      "source": [
        "# here loc slices data using index number.\n",
        "\n",
        "new_df.iloc[2] "
      ],
      "id": "6d60f17e"
    },
    {
      "cell_type": "code",
      "execution_count": 16,
      "metadata": {},
      "outputs": [
        {
          "output_type": "display_data",
          "metadata": {},
          "data": {
            "text/plain": [
              "a    10\n",
              "b    20\n",
              "c    30\n",
              "d    40\n",
              "Name: Integers, dtype: int64"
            ]
          }
        }
      ],
      "source": [
        "# here loc slices data using column number.\n",
        "\n",
        "new_df.iloc[:, 0] "
      ],
      "id": "d5f8a2cb"
    },
    {
      "cell_type": "code",
      "execution_count": 17,
      "metadata": {},
      "outputs": [
        {
          "output_type": "display_data",
          "metadata": {},
          "data": {
            "text/plain": [
              "30"
            ]
          }
        }
      ],
      "source": [
        "# here we use both index and column number.\n",
        "\n",
        "new_df.iloc[2, 0] "
      ],
      "id": "14b38657"
    },
    {
      "cell_type": "markdown",
      "metadata": {},
      "source": [
        "## Data Structures: DataFrame - filters\n",
        "\n",
        "Complex selection is achieved applying Boolean filters. Multiple\n",
        "conditions can be combined in one statement."
      ],
      "id": "72a1e626-d0e0-430e-b7a0-0dc0515c1acf"
    },
    {
      "cell_type": "code",
      "execution_count": 18,
      "metadata": {},
      "outputs": [
        {
          "output_type": "display_data",
          "metadata": {},
          "data": {
            "text/html": [
              "\n",
              "</div>"
            ]
          }
        }
      ],
      "source": [
        "new_df[new_df['Integers']>10]"
      ],
      "id": "406923d3"
    },
    {
      "cell_type": "markdown",
      "metadata": {},
      "source": [
        "------------------------------------------------------------------------"
      ],
      "id": "af95a530-49cc-462c-89e9-32c2bb5482f5"
    },
    {
      "cell_type": "code",
      "execution_count": 19,
      "metadata": {},
      "outputs": [
        {
          "output_type": "display_data",
          "metadata": {},
          "data": {
            "text/html": [
              "\n",
              "</div>"
            ]
          }
        }
      ],
      "source": [
        "# here we apply conditions to both columns.\n",
        "\n",
        "new_df[(new_df.Integers>10) & (new_df.Floats>2.5)] "
      ],
      "id": "f8ba8b7a"
    },
    {
      "cell_type": "markdown",
      "metadata": {},
      "source": [
        "## Data Structures: DataFrame - `Axis`\n",
        "\n",
        "DataFrames operate on 2 dimensions.\n",
        "\n",
        "`Axis = 0` invokes functions across rows; it’s the default behaviour\n",
        "when the axis is not specified."
      ],
      "id": "e0ced900-1c08-484f-b55b-4427221a0190"
    },
    {
      "cell_type": "code",
      "execution_count": 20,
      "metadata": {},
      "outputs": [
        {
          "output_type": "display_data",
          "metadata": {},
          "data": {
            "text/plain": [
              "Integers    100.0\n",
              "Floats       12.0\n",
              "dtype: float64"
            ]
          }
        }
      ],
      "source": [
        "new_df.sum() "
      ],
      "id": "39242dc0"
    },
    {
      "cell_type": "markdown",
      "metadata": {},
      "source": [
        "`Axis = 1` invokes functions across columns."
      ],
      "id": "1309de4c-d433-40d7-95c5-bf8eb70cb618"
    },
    {
      "cell_type": "code",
      "execution_count": 21,
      "metadata": {},
      "outputs": [
        {
          "output_type": "display_data",
          "metadata": {},
          "data": {
            "text/plain": [
              "a    11.5\n",
              "b    22.5\n",
              "c    33.5\n",
              "d    44.5\n",
              "dtype: float64"
            ]
          }
        }
      ],
      "source": [
        "new_df.sum(axis=1) "
      ],
      "id": "535dba4c"
    },
    {
      "cell_type": "markdown",
      "metadata": {},
      "source": [
        "## Data Structures: DataFrame - `Axis`\n",
        "\n",
        "We can mix element-wise operations with functions applied to a given\n",
        "axis\n",
        "\n",
        "Example: Create a column with the sum of squares of each row."
      ],
      "id": "86969a04-d3ba-4633-97a3-90bd6e146ae8"
    },
    {
      "cell_type": "code",
      "execution_count": 22,
      "metadata": {},
      "outputs": [
        {
          "output_type": "display_data",
          "metadata": {},
          "data": {
            "text/html": [
              "\n",
              "</div>"
            ]
          }
        }
      ],
      "source": [
        "# Just one line of code!\n",
        "new_df['Sumsq'] = (new_df**2).sum(axis=1) \n",
        "\n",
        "new_df"
      ],
      "id": "e6205aaf"
    },
    {
      "cell_type": "markdown",
      "metadata": {},
      "source": [
        "## Importing data\n",
        "\n",
        "Read a datafile and turn it into a DataFrame. Several arguments are\n",
        "available to specify the behavior of the process:\n",
        "\n",
        "`index_col` sets the column of the csv file to be used as index of the\n",
        "DataFrame\n",
        "\n",
        "`sep` specifies the separator in the source file\n",
        "\n",
        "`parse_dates` sets the column to be converted as datetime objects\n",
        "\n",
        "``` python\n",
        "FILE = './path/to/some_file.csv'\n",
        "\n",
        "df_r = pd.read_csv(FILE, \n",
        "                    index_col = 0, \n",
        "                    sep = ';',\n",
        "                    parse_dates = ['date'] )\n",
        "```\n",
        "\n",
        "## Biostats data - `info()`\n",
        "\n",
        "The `info()` method outputs top-down information on the DataFrame"
      ],
      "id": "d107a5cc-dac1-467f-a402-cb8436141deb"
    },
    {
      "cell_type": "code",
      "execution_count": 23,
      "metadata": {},
      "outputs": [
        {
          "output_type": "stream",
          "name": "stdout",
          "text": [
            "<class 'pandas.core.frame.DataFrame'>\n",
            "RangeIndex: 18 entries, 0 to 17\n",
            "Data columns (total 5 columns):\n",
            " #   Column       Non-Null Count  Dtype \n",
            "---  ------       --------------  ----- \n",
            " 0   Name         18 non-null     object\n",
            " 1   Sex          18 non-null     object\n",
            " 2   Age          18 non-null     int64 \n",
            " 3   Height(in)   18 non-null     int64 \n",
            " 4   Weight(lbs)  18 non-null     int64 \n",
            "dtypes: int64(3), object(2)\n",
            "memory usage: 852.0+ bytes"
          ]
        }
      ],
      "source": [
        "FILE = 'data/biostats.csv'\n",
        "\n",
        "df_bio = pd.read_csv(FILE)\n",
        "\n",
        "df_bio.info()"
      ],
      "id": "623746b5"
    },
    {
      "cell_type": "markdown",
      "metadata": {},
      "source": [
        "## Biostats data - `head()` and `tail()`\n",
        "\n",
        "These convenient methods visualise respectively the first/last n rows\n",
        "(default = 5) in the DataFrame."
      ],
      "id": "b9bf0457-82b0-4565-8a32-3115d5c05a13"
    },
    {
      "cell_type": "code",
      "execution_count": 24,
      "metadata": {},
      "outputs": [
        {
          "output_type": "display_data",
          "metadata": {},
          "data": {
            "text/html": [
              "\n",
              "</div>"
            ]
          }
        }
      ],
      "source": [
        "df_bio.head()"
      ],
      "id": "eec07a6c"
    },
    {
      "cell_type": "markdown",
      "metadata": {},
      "source": [
        "------------------------------------------------------------------------"
      ],
      "id": "4a0d4af6-667b-4851-ac4c-0ceb75610aaa"
    },
    {
      "cell_type": "code",
      "execution_count": 25,
      "metadata": {},
      "outputs": [
        {
          "output_type": "display_data",
          "metadata": {},
          "data": {
            "text/html": [
              "\n",
              "</div>"
            ]
          }
        }
      ],
      "source": [
        "df_bio.tail()"
      ],
      "id": "8928049e"
    },
    {
      "cell_type": "markdown",
      "metadata": {},
      "source": [
        "## Biostats data - index column\n",
        "\n",
        "Selecting the index column affects the structure of the DataFrame and\n",
        "thus information retrieval.\n",
        "\n",
        "CAUTION: the index does not have to be unique. Multiple rows could have\n",
        "the same index name."
      ],
      "id": "1f253271-edb6-4233-a37b-c6f57a1cde32"
    },
    {
      "cell_type": "code",
      "execution_count": 26,
      "metadata": {},
      "outputs": [
        {
          "output_type": "display_data",
          "metadata": {},
          "data": {
            "text/html": [
              "\n",
              "</div>"
            ]
          }
        }
      ],
      "source": [
        "# here we set the Name column as the index\n",
        "df_bio2 = pd.read_csv(FILE, index_col=0)\n",
        "\n",
        "df_bio2.head()"
      ],
      "id": "d01ec3a1"
    },
    {
      "cell_type": "code",
      "execution_count": 27,
      "metadata": {},
      "outputs": [
        {
          "output_type": "display_data",
          "metadata": {},
          "data": {
            "text/plain": [
              "Sex              M\n",
              "Age             42\n",
              "Height(in)      68\n",
              "Weight(lbs)    166\n",
              "Name: Bert, dtype: object"
            ]
          }
        }
      ],
      "source": [
        "#It is now possible to use elements of the Name column to select an entire row\n",
        "df_bio2.loc['Bert']"
      ],
      "id": "7eee1b55"
    },
    {
      "cell_type": "markdown",
      "metadata": {},
      "source": [
        "## Descriptive statistics - `describe()`\n",
        "\n",
        "Compute the descriptive statistics of quantitative variables"
      ],
      "id": "b55922a2-e787-4c41-9d44-09ab1d372b8a"
    },
    {
      "cell_type": "code",
      "execution_count": 28,
      "metadata": {},
      "outputs": [
        {
          "output_type": "display_data",
          "metadata": {},
          "data": {
            "text/html": [
              "\n",
              "</div>"
            ]
          }
        }
      ],
      "source": [
        "# Descriptive stats\n",
        "df_bio.describe() "
      ],
      "id": "213951fe"
    },
    {
      "cell_type": "code",
      "execution_count": 29,
      "metadata": {},
      "outputs": [
        {
          "output_type": "display_data",
          "metadata": {},
          "data": {
            "text/plain": [
              "count    18.000000\n",
              "mean     34.666667\n",
              "std       7.577055\n",
              "min      23.000000\n",
              "25%      30.000000\n",
              "50%      32.500000\n",
              "75%      38.750000\n",
              "max      53.000000\n",
              "Name: Age, dtype: float64"
            ]
          }
        }
      ],
      "source": [
        "# Descriptive statistics for the Age variable\n",
        "df_bio['Age'].describe()"
      ],
      "id": "6e8fe2ad"
    },
    {
      "cell_type": "markdown",
      "metadata": {},
      "source": [
        "## Descriptive statistics - categorcal variables\n",
        "\n",
        "The `value_counts()` method computes the unique values and how many\n",
        "times they occur."
      ],
      "id": "b4bf59af-3903-47a5-8549-0ed338321918"
    },
    {
      "cell_type": "code",
      "execution_count": 30,
      "metadata": {},
      "outputs": [
        {
          "output_type": "display_data",
          "metadata": {},
          "data": {
            "text/plain": [
              "Sex\n",
              "M    11\n",
              "F     7\n",
              "Name: count, dtype: int64"
            ]
          }
        }
      ],
      "source": [
        "# Descriptive statistics for the entire DataFrame\n",
        "df_bio.Sex.value_counts()"
      ],
      "id": "e69252f0"
    }
  ],
  "nbformat": 4,
  "nbformat_minor": 5,
  "metadata": {
    "kernelspec": {
      "name": "python3",
      "display_name": "Python 3 (ipykernel)",
      "language": "python"
    },
    "language_info": {
      "name": "python",
      "codemirror_mode": {
        "name": "ipython",
        "version": "3"
      },
      "file_extension": ".py",
      "mimetype": "text/x-python",
      "nbconvert_exporter": "python",
      "pygments_lexer": "ipython3",
      "version": "3.12.3"
    }
  }
}