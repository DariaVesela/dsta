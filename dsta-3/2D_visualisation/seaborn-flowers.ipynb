{
  "cells": [
    {
      "cell_type": "raw",
      "metadata": {},
      "source": [
        "---\n",
        "title: Visualising the Iris dataset with Seaborn\n",
        "lang: en\n",
        "author: AM\n",
        "format:\n",
        "  html:\n",
        "    code-fold: false\n",
        "---"
      ],
      "id": "cfbc628f"
    },
    {
      "cell_type": "markdown",
      "metadata": {},
      "source": [
        "## Preliminaries\n"
      ],
      "id": "3ebfb078"
    },
    {
      "cell_type": "code",
      "metadata": {},
      "source": [
        "import seaborn as sns\n",
        "import pandas as pd\n",
        "from matplotlib import pyplot as plt\n",
        "\n",
        "\n",
        "iris=pd.read_csv(\"iris.csv\")\n",
        "\n",
        "iris"
      ],
      "id": "0327aa15",
      "execution_count": null,
      "outputs": []
    },
    {
      "cell_type": "markdown",
      "metadata": {},
      "source": [
        "## Plot sepal-length in stacked bars\n",
        "\n",
        "The `hue` parameter controls class separation\n"
      ],
      "id": "a89f9bd6"
    },
    {
      "cell_type": "code",
      "metadata": {},
      "source": [
        "sns.histplot(data=iris,  x=\"SepalLengthCm\", hue=iris[\"Species\"], multiple=\"stack\")\n",
        "plt.show()"
      ],
      "id": "a56c2891",
      "execution_count": null,
      "outputs": []
    },
    {
      "cell_type": "code",
      "metadata": {},
      "source": [
        "# Plot histogram of classes of sepal length dimension in three sub plots\n",
        "g = sns.FacetGrid(iris, col=\"Species\")\n",
        "g.map(sns.histplot, \"SepalLengthCm\")\n",
        "\n",
        "# plt.show()"
      ],
      "id": "67b995a1",
      "execution_count": null,
      "outputs": []
    },
    {
      "cell_type": "markdown",
      "metadata": {},
      "source": [
        "---\n"
      ],
      "id": "3b4de146"
    },
    {
      "cell_type": "code",
      "metadata": {},
      "source": [
        "# Scatter plot between speal length vs petal length\n",
        "g = sns.FacetGrid(iris, hue=\"Species\")\n",
        "g.map(sns.scatterplot, \"SepalLengthCm\", \"SepalWidthCm\", alpha=.7)\n",
        "g.add_legend()\n",
        "\n",
        "plt.show()"
      ],
      "id": "4173950a",
      "execution_count": null,
      "outputs": []
    },
    {
      "cell_type": "raw",
      "metadata": {},
      "source": [
        "---"
      ],
      "id": "69a246fe"
    },
    {
      "cell_type": "markdown",
      "metadata": {},
      "source": [
        "## Plot histograms and scatter plots for all dimensions in one single figure"
      ],
      "id": "7c3fac0b"
    },
    {
      "cell_type": "code",
      "metadata": {},
      "source": [
        "g = sns.PairGrid(iris, hue=\"Species\")\n",
        "\n",
        "g.map_diag(sns.histplot)\n",
        "g.map_offdiag(sns.scatterplot)\n",
        "g.add_legend()\n",
        "\n",
        "plt.show()"
      ],
      "id": "ae70da38",
      "execution_count": null,
      "outputs": []
    }
  ],
  "metadata": {
    "kernelspec": {
      "name": "python3",
      "language": "python",
      "display_name": "Python 3 (ipykernel)"
    }
  },
  "nbformat": 4,
  "nbformat_minor": 5
}