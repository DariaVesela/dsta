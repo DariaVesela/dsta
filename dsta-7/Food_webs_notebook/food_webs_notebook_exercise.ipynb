{
  "cells": [
    {
      "cell_type": "markdown",
      "metadata": {
        "id": "6zbkhVJWvcND"
      },
      "source": [
        "### DSTA\n",
        "\n",
        "\n",
        "#### Chapter I - Food Webs: in-class exercises\n",
        "\n",
        "##### This exercise notebook is taken from the (Python 2) notebook for Ch. 1 of Caldarelli-Cheesa's textbook (CC).\n",
        "\n",
        "Please also see the [online NetworkX manuals](https://networkx.org/documentation/stable/index.html)."
      ]
    },
    {
      "cell_type": "markdown",
      "metadata": {},
      "source": [
        "#### Getting Started"
      ]
    },
    {
      "cell_type": "code",
      "execution_count": 30,
      "metadata": {},
      "outputs": [
        {
          "name": "stdout",
          "output_type": "stream",
          "text": [
            "3.12.3 (tags/v3.12.3:f6650f9, Apr  9 2024, 14:05:25) [MSC v.1938 64 bit (AMD64)]\n"
          ]
        }
      ],
      "source": [
        "# check the running Python version\n",
        "import sys\n",
        "print(sys.version)"
      ]
    },
    {
      "cell_type": "code",
      "execution_count": 31,
      "metadata": {},
      "outputs": [],
      "source": [
        "# import the required modules\n",
        "\n",
        "import numpy as np\n",
        "import matplotlib.pyplot as plt\n",
        "\n",
        "# this my require installation\n",
        "import networkx as nx\n"
      ]
    },
    {
      "cell_type": "markdown",
      "metadata": {
        "id": "Ott7Nyh8vcNH"
      },
      "source": [
        "#### Instantiate a simple Adjacency Matrix"
      ]
    },
    {
      "cell_type": "code",
      "execution_count": 32,
      "metadata": {},
      "outputs": [],
      "source": [
        "adjacency_matrix=[\n",
        "                  [0,1,0,1],\n",
        "                  [1,0,1,1],\n",
        "                  [0,1,0,0],\n",
        "                  [1,1,0,0]\n",
        "                  ]"
      ]
    },
    {
      "cell_type": "markdown",
      "metadata": {
        "id": "iTc5vynzvcNJ"
      },
      "source": [
        "###  Q1. Draw an undirected graph from an adjacency matrix"
      ]
    },
    {
      "cell_type": "code",
      "execution_count": null,
      "metadata": {
        "id": "95mDF_UmvcNK"
      },
      "outputs": [],
      "source": []
    },
    {
      "cell_type": "markdown",
      "metadata": {
        "id": "kleVnxwSvcNM"
      },
      "source": [
        "### Browsing the rows"
      ]
    },
    {
      "cell_type": "code",
      "execution_count": 33,
      "metadata": {
        "colab": {
          "base_uri": "https://localhost:8080/"
        },
        "id": "r6nuDSJavcNM",
        "outputId": "6f5dcd3c-4e19-4da0-93a4-5ab63bfd8417"
      },
      "outputs": [
        {
          "name": "stdout",
          "output_type": "stream",
          "text": [
            "[0, 1, 0, 1]\n",
            "[1, 0, 1, 1]\n",
            "[0, 1, 0, 0]\n",
            "[1, 1, 0, 0]\n"
          ]
        }
      ],
      "source": [
        "for row in adjacency_matrix:\n",
        "    print(row)"
      ]
    },
    {
      "cell_type": "markdown",
      "metadata": {
        "id": "plXk18efvcNP"
      },
      "source": [
        "### Browsing the link information"
      ]
    },
    {
      "cell_type": "code",
      "execution_count": 34,
      "metadata": {
        "id": "s_kJxze5vcNQ",
        "outputId": "2e80096e-b92e-4a05-fc9a-2799dcd339cf"
      },
      "outputs": [
        {
          "name": "stdout",
          "output_type": "stream",
          "text": [
            "0 1 0 1 \n",
            "1 0 1 1 \n",
            "0 1 0 0 \n",
            "1 1 0 0 \n"
          ]
        }
      ],
      "source": [
        "for row in adjacency_matrix:\n",
        "    for a_ij in row:\n",
        "        print(a_ij,end=\" \")\n",
        "        \n",
        "    print(\"\\r\")"
      ]
    },
    {
      "cell_type": "markdown",
      "metadata": {
        "id": "NNohi8T_vcNS"
      },
      "source": [
        "### Directed Networks"
      ]
    },
    {
      "cell_type": "markdown",
      "metadata": {
        "id": "INxny68fvcNS"
      },
      "source": [
        "###  Q2. Draw the directed graph from an adjacency matrix"
      ]
    },
    {
      "cell_type": "code",
      "execution_count": 35,
      "metadata": {
        "id": "-u0AcVU3vcNU"
      },
      "outputs": [],
      "source": [
        "\"\"\"\n",
        "With directed networks, the adjacency matrix is not symmetric, like for Food Web\n",
        "So, if a non-zero element is present in row 2, column 3, this means there is an \n",
        "arc (directed edge) from node 2 toward node 3\n",
        "\"\"\"\n",
        "\n",
        "adjacency_matrix_directed=[\n",
        "                  [0,1,0,1],\n",
        "                  [0,0,1,0],\n",
        "                  [0,0,0,1],\n",
        "                  [0,0,0,0]\n",
        "                  ]"
      ]
    },
    {
      "cell_type": "markdown",
      "metadata": {
        "id": "PVEAo1NmvcNY"
      },
      "source": [
        "## Basic Statistics"
      ]
    },
    {
      "cell_type": "code",
      "execution_count": 36,
      "metadata": {
        "id": "pt2zJM-BvcNY",
        "outputId": "814e97fe-8335-4dfe-c7bc-28479e5e04d8"
      },
      "outputs": [
        {
          "name": "stdout",
          "output_type": "stream",
          "text": [
            "number of species 4\n",
            "number of predations 4\n",
            "classes Basal, Top, Intermediate:  1 1 2\n",
            "connectance 0.25\n"
          ]
        }
      ],
      "source": [
        "#the number of species is the number of rows or columns of \n",
        "#the adjacency matrix\n",
        "num_species=len(adjacency_matrix_directed[0])\n",
        "\n",
        "#the number of links or predations is the non zero elements \n",
        "#of the adjacency matrix (this holds for directed graphs\n",
        "num_predations=0\n",
        "for i in range(num_species):\n",
        "    for j in range(num_species):\n",
        "        if adjacency_matrix_directed[i][j]!=0:\n",
        "            num_predations=num_predations+1\n",
        "\n",
        "#to check if a specie is a Basal (B), an Intermediate (I) or\n",
        "#a Top (T) one  we have to check the presence of 1s both in \n",
        "#the row and in the column of each specie\n",
        "row_count=[0,0,0,0]\n",
        "column_count=[0,0,0,0]\n",
        "for i in range(num_species):\n",
        "    for j in range(num_species):\n",
        "        row_count[i]=row_count[i]+adjacency_matrix_directed[i][j]\n",
        "        column_count[j]=column_count[j]+ \\\n",
        "        adjacency_matrix_directed[i][j]\n",
        "\n",
        "number_B=0\n",
        "number_I=0\n",
        "number_T=0\n",
        "\n",
        "for n in range(num_species):\n",
        "    if row_count[n]==0:\n",
        "        number_T+=1\n",
        "        continue\n",
        "    if column_count[n]==0:\n",
        "        number_B+=1\n",
        "        continue\n",
        "    else:\n",
        "        number_I+=1\n",
        "   \n",
        "print(\"number of species\", num_species)\n",
        "print(\"number of predations\", num_predations)\n",
        "print(\"classes Basal, Top, Intermediate: \",number_B,number_T,number_I)\n",
        "print(\"connectance\", float(num_predations)/float(num_species**2))"
      ]
    },
    {
      "cell_type": "markdown",
      "metadata": {
        "id": "KZ4dmcZqvcNZ"
      },
      "source": [
        "## The Degree"
      ]
    },
    {
      "cell_type": "code",
      "execution_count": 37,
      "metadata": {
        "id": "7LOYmA1lvcNa",
        "outputId": "0aa44b00-69ea-45d5-c3bb-24262a60754c"
      },
      "outputs": [
        {
          "name": "stdout",
          "output_type": "stream",
          "text": [
            "degree of node 2: 3\n",
            "out_degree node 3: 1\n",
            "in_degree node 4: 2\n"
          ]
        }
      ],
      "source": [
        "#for the undirected network\n",
        "degree_node_2=0\n",
        "for j in adjacency_matrix[1]:\n",
        "    degree_node_2=degree_node_2+j\n",
        "print (\"degree of node 2:\",degree_node_2)\n",
        "\n",
        "#and for the directed case we already calculated the sum over \n",
        "#the rows and columns for the adjacency_matrix_directed\n",
        "out_degree_node_3=row_count[2]\n",
        "in_degree_node_4=column_count[3]\n",
        "\n",
        "print( \"out_degree node 3:\",out_degree_node_3)\n",
        "print (\"in_degree node 4:\",in_degree_node_4)"
      ]
    },
    {
      "cell_type": "markdown",
      "metadata": {
        "id": "NwmGCa82vcNb"
      },
      "source": [
        "###  Q3. Draw the histogram of degree distribution from adjacency matrix"
      ]
    },
    {
      "cell_type": "code",
      "execution_count": 38,
      "metadata": {
        "id": "8zVLzT7NvcNb"
      },
      "outputs": [],
      "source": [
        "#plot_degree_dist(nx.gnp_random_graph(100, 0.5, directed=True))"
      ]
    },
    {
      "cell_type": "markdown",
      "metadata": {
        "id": "wUAjjWnevcNb"
      },
      "source": [
        "## Degree in Networkx"
      ]
    },
    {
      "cell_type": "code",
      "execution_count": 39,
      "metadata": {
        "id": "Z-rdW4o4vcNb",
        "outputId": "799186a0-9db4-4654-921f-926b0cb70a12"
      },
      "outputs": [
        {
          "name": "stdout",
          "output_type": "stream",
          "text": [
            "3\n"
          ]
        }
      ],
      "source": [
        "import networkx as nx\n",
        "\n",
        "#generate an empty graph\n",
        "G=nx.Graph()\n",
        "\n",
        "#define the nodes\n",
        "G.add_node(1)\n",
        "G.add_node(2)\n",
        "G.add_node(3)\n",
        "G.add_node(4)\n",
        "\n",
        "#link the nodes\n",
        "G.add_edge(1,2)\n",
        "G.add_edge(1,4)\n",
        "G.add_edge(2,3)\n",
        "G.add_edge(2,4)\n",
        "\n",
        "#degree of the node 2\n",
        "print(G.degree(2))"
      ]
    },
    {
      "cell_type": "markdown",
      "metadata": {
        "id": "0n0hJERbvcNc"
      },
      "source": [
        "###  Q4. Draw the graph and degree distribution histogram for the above. "
      ]
    },
    {
      "cell_type": "code",
      "execution_count": null,
      "metadata": {
        "id": "vNAM57iqvcNd"
      },
      "outputs": [],
      "source": []
    },
    {
      "cell_type": "markdown",
      "metadata": {
        "id": "3gSW1NlPvcNd"
      },
      "source": [
        "## Clustering Coefficient"
      ]
    },
    {
      "cell_type": "code",
      "execution_count": 40,
      "metadata": {
        "id": "a7chd1hdvcNd",
        "outputId": "beb3d256-6081-4316-a5a6-17474807eda1"
      },
      "outputs": [
        {
          "name": "stdout",
          "output_type": "stream",
          "text": [
            "\n",
            "[0, 2, 3]\n",
            "1.0\n",
            "0.3333333333333333\n"
          ]
        }
      ],
      "source": [
        "row=1 #stands for the node 2\n",
        "node_index_count=0\n",
        "node_index_list=[]\n",
        "for a_ij in adjacency_matrix[row]:\n",
        "    if a_ij==1:\n",
        "        node_index_list.append(node_index_count)\n",
        "\n",
        "    node_index_count=node_index_count+1    \n",
        "    \n",
        "print(\"\\r\")\n",
        "\n",
        "print(node_index_list)\n",
        "\n",
        "#then we will check for all the possible neighbours couples if a link actually exist:\n",
        "\n",
        "neighb_conn=0\n",
        "for n1 in node_index_list:\n",
        "    for n2 in node_index_list:\n",
        "        if adjacency_matrix[n1][n2]==1:\n",
        "            neighb_conn=neighb_conn+1\n",
        "   \n",
        "#we have indeed counted them twice...\n",
        "neighb_conn=neighb_conn/2.0\n",
        "\n",
        "print(neighb_conn)\n",
        "\n",
        "#Finally the clustering coefficient for node '2' is given by the expression:\n",
        "\n",
        "clustering_coefficient=neighb_conn/ \\\n",
        "(degree_node_2*(degree_node_2-1)/2.0) \n",
        "\n",
        "print(clustering_coefficient)"
      ]
    },
    {
      "cell_type": "markdown",
      "metadata": {
        "id": "NmEyf_IivcNd"
      },
      "source": [
        "#### Compute distance with Breadth-first Search\n",
        "\n",
        "A quick introduction to Breadth-First Search (BFS) can be found on [Geeksforgeeks](https://www.geeksforgeeks.org/breadth-first-search-or-bfs-for-a-graph/) and [Wikipedia](https://en.wikipedia.org/wiki/Breadth-first_search)."
      ]
    },
    {
      "cell_type": "markdown",
      "metadata": {
        "id": "OreXNJ2kvcNe"
      },
      "source": [
        "#### Create the undirected graph"
      ]
    },
    {
      "cell_type": "code",
      "execution_count": 41,
      "metadata": {
        "id": "N63qMlorvcNf"
      },
      "outputs": [
        {
          "name": "stdout",
          "output_type": "stream",
          "text": [
            "('B', 'C') \n",
            "\n",
            "\n"
          ]
        },
        {
          "data": {
            "image/png": "[encoded data removed]",
            "text/plain": [
              "<Figure size 640x480 with 1 Axes>"
            ]
          },
          "metadata": {},
          "output_type": "display_data"
        }
      ],
      "source": [
        "GU = nx.Graph()\n",
        "\n",
        "GU.add_edges_from([\n",
        "    ('A','B'),\n",
        "    ('A','C'),\n",
        "    ('C','D'),\n",
        "    ('C','E'),\n",
        "    ('D','F'),\n",
        "    ('D','H'),\n",
        "    ('D','G'),\n",
        "    ('E','H'),\n",
        "    ('E','I')\n",
        "    ])\n",
        "\n",
        "# Example of printing neighbors of a node 'A'\n",
        "print(tuple(GU.neighbors('A')), \"\\n\\n\")\n",
        "\n",
        "nx.draw(GU, with_labels=True)"
      ]
    },
    {
      "cell_type": "code",
      "execution_count": 42,
      "metadata": {},
      "outputs": [
        {
          "name": "stdout",
          "output_type": "stream",
          "text": [
            "{}\n"
          ]
        },
        {
          "data": {
            "text/plain": [
              "['A', 'D', 'E']"
            ]
          },
          "execution_count": 42,
          "metadata": {},
          "output_type": "execute_result"
        }
      ],
      "source": [
        "# Each graph node has an empty dictionary\n",
        "print(GU.nodes[\"C\"])\n",
        "list(GU.neighbors(\"C\"))"
      ]
    },
    {
      "cell_type": "code",
      "execution_count": 44,
      "metadata": {
        "id": "w6ZMf2KWvcNf",
        "outputId": "18a82e58-7f52-4992-c1e5-a0ff82bf3199"
      },
      "outputs": [
        {
          "name": "stdout",
          "output_type": "stream",
          "text": [
            "A 0\n",
            "B 1\n",
            "C 1\n",
            "D 2\n",
            "E 2\n",
            "F 3\n",
            "H 3\n",
            "G 3\n",
            "I 3\n"
          ]
        }
      ],
      "source": [
        "root_node = 'A'\n",
        "\n",
        "queue = []\n",
        "queue.append('A')\n",
        "\n",
        "# Distance of root node vs itself\n",
        "GU.nodes['A'][\"distance\"] = 0\n",
        "\n",
        "while len(queue):\n",
        "    working_node = queue.pop(0)\n",
        "\n",
        "    # Uncomment the following 2 lines to print more output\n",
        "    # print(f\"Working Node: {working_node}\")\n",
        "    # print(f\"{working_node} Neighbors: {list(GU.neighbors(working_node))}\")\n",
        "\n",
        "    # Iterate through current node neighbors\n",
        "    for n in GU.neighbors(working_node):\n",
        "        if len(GU.nodes[n]) == 0:  # Checks if a distance has been assigned\n",
        "            GU.nodes[n][\"distance\"] = GU.nodes[working_node][\"distance\"] + 1\n",
        "            queue.append(n)\n",
        "            \n",
        "for n in GU.nodes():\n",
        "    print (n, GU.nodes[n][\"distance\"])"
      ]
    },
    {
      "cell_type": "code",
      "execution_count": null,
      "metadata": {},
      "outputs": [],
      "source": [
        "GU.nodes[\"B\"]"
      ]
    },
    {
      "cell_type": "markdown",
      "metadata": {
        "id": "8ekXlCZYvcNf"
      },
      "source": [
        "## Reading files with Food Web data"
      ]
    },
    {
      "cell_type": "code",
      "execution_count": null,
      "metadata": {},
      "outputs": [],
      "source": [
        "# This is one of the wet areas presented in Ch. 1\n",
        "FILE = \"./data/Little_Rock_Lake.txt\""
      ]
    },
    {
      "cell_type": "code",
      "execution_count": null,
      "metadata": {
        "id": "C7jnkwH9vcNg"
      },
      "outputs": [],
      "source": [
        "\n",
        "\n",
        "DG = nx.DiGraph()\n",
        "\n",
        "in_file=open(FILE,'r')\n",
        "while True:\n",
        "    next_line=in_file.readline()\n",
        "    if not next_line:\n",
        "        break\n",
        "\n",
        "    next_line_fields=next_line[:-2].split(' ')\n",
        "    node_a=next_line_fields[1] #there is a space in the beginning \n",
        "                               #of each edge\n",
        "    node_b=next_line_fields[2]\n",
        "    print(node_a,node_b)\n",
        "    DG.add_edge(node_a, node_b)"
      ]
    },
    {
      "cell_type": "markdown",
      "metadata": {
        "id": "r9iLM8lOvcNh"
      },
      "source": [
        "###  Q5. Draw the graph and degree distribution histogram for the above. "
      ]
    },
    {
      "cell_type": "code",
      "execution_count": null,
      "metadata": {
        "id": "4w3zq2TMvcNh"
      },
      "outputs": [],
      "source": []
    },
    {
      "cell_type": "code",
      "execution_count": null,
      "metadata": {
        "id": "-wu6ILXjvcNh"
      },
      "outputs": [],
      "source": []
    },
    {
      "cell_type": "markdown",
      "metadata": {
        "id": "kyajYPTzvcNh"
      },
      "source": [
        "## Trophic Species"
      ]
    },
    {
      "cell_type": "markdown",
      "metadata": {
        "id": "mExxBdNvvcNh"
      },
      "source": [
        "## Defining the trophic pattern key\n",
        "this is a way to generate a unique key starting from the ordered lists of preys and predators attached to nodes"
      ]
    },
    {
      "cell_type": "code",
      "execution_count": null,
      "metadata": {
        "id": "ffiT6aKNvcNi"
      },
      "outputs": [],
      "source": [
        "def get_node_key(node):\n",
        "    out_list=[]\n",
        "    for out_edge in DG.out_edges(node):\n",
        "        out_list.append(out_edge[1])\n",
        "    in_list=[]\n",
        "\n",
        "    for in_edge in DG.in_edges(node):\n",
        "        in_list.append(in_edge[0])\n",
        "    out_list.sort()\n",
        "    out_list.append('-')\n",
        "    in_list.sort()\n",
        "    out_list.extend(in_list)\n",
        "    \n",
        "    return out_list"
      ]
    },
    {
      "cell_type": "markdown",
      "metadata": {
        "id": "a7cKgkxTvcNi"
      },
      "source": [
        "## Grouping the Trophic Species and Regenerating the Trophic network"
      ]
    },
    {
      "cell_type": "code",
      "execution_count": null,
      "metadata": {
        "id": "HHOzwTzuvcNj"
      },
      "outputs": [],
      "source": [
        "def TrophicNetwork(DG):\n",
        "    trophic={}\n",
        "    for n in DG.nodes():\n",
        "        k=tuple(get_node_key(n))\n",
        "        if not k in trophic:\n",
        "            trophic[k]=[]\n",
        "\n",
        "        trophic[k].append(n)\n",
        "    for specie in trophic.keys():\n",
        "        if len(trophic[specie])>1:\n",
        "            for n in trophic[specie][1:]:\n",
        "                DG.remove_node(n)\n",
        "\n",
        "    return DG\n",
        "\n",
        "#deleting the environment\n",
        "#DG.remove_node('0')\n",
        "\n",
        "TrophicDG=TrophicNetwork(DG)\n",
        "print(\"S:\",TrophicDG.number_of_nodes())\n",
        "print(\"L:\",TrophicDG.number_of_edges())\n",
        "print(\"L/S:\",float(TrophicDG.number_of_edges())/ \\\n",
        "TrophicDG.number_of_nodes())"
      ]
    },
    {
      "cell_type": "markdown",
      "metadata": {
        "id": "45kSZ5DevcNj"
      },
      "source": [
        "## Classes in Food Webs"
      ]
    },
    {
      "cell_type": "code",
      "execution_count": null,
      "metadata": {
        "id": "VArYACxivcNj",
        "outputId": "330af0bf-9676-40b4-e725-fbeee4308120"
      },
      "outputs": [
        {
          "name": "stdout",
          "output_type": "stream",
          "text": [
            "B: 0.68\n",
            "I: 0.3\n",
            "T: 0.02\n"
          ]
        }
      ],
      "source": [
        "def compute_classes(DG):\n",
        "    basal_species=[]\n",
        "    top_species=[]\n",
        "    intermediate_species=[]\n",
        "    for n in DG.nodes():\n",
        "        if DG.in_degree(n)==0:\n",
        "            basal_species.append(n)\n",
        "        elif DG.out_degree(n)==0:\n",
        "            top_species.append(n)\n",
        "        else:\n",
        "            intermediate_species.append(n)\n",
        "            \n",
        "    return (basal_species,intermediate_species,top_species)\n",
        "\n",
        "(B,I,T)=compute_classes(TrophicDG)\n",
        "print (\"B:\",float(len(B))/(len(B)+len(T)+len(I)))\n",
        "print (\"I:\",float(len(I))/(len(B)+len(T)+len(I)))\n",
        "print (\"T:\",float(len(T))/(len(B)+len(T)+len(I)))"
      ]
    },
    {
      "cell_type": "markdown",
      "metadata": {
        "id": "Yhxjw1DLvcNk"
      },
      "source": [
        "## Proportion of links among classes and ratio prey/predators"
      ]
    },
    {
      "cell_type": "code",
      "execution_count": null,
      "metadata": {
        "id": "lcPRL_6ZvcNl",
        "outputId": "75e43136-42e0-46b7-bd11-26765e76c894"
      },
      "outputs": [
        {
          "name": "stdout",
          "output_type": "stream",
          "text": [
            "links in BT: 0.12437810945273632\n",
            "links in BI: 0.6467661691542289\n",
            "links in II: 0.15422885572139303\n",
            "links in IT: 0.07462686567164178\n",
            "P/R: 3.0625\n"
          ]
        }
      ],
      "source": [
        "def InterclassLinkProportion(DG,C1,C2):\n",
        "    count=0\n",
        "    for n1 in C1:\n",
        "        for n2 in C2:\n",
        "            if DG.has_edge(n1,n2):\n",
        "                count+=1\n",
        "    return float(count)/DG.number_of_edges()\n",
        "    \n",
        "print(\"links in BT:\",InterclassLinkProportion(TrophicDG,B,T))\n",
        "print(\"links in BI:\",InterclassLinkProportion(TrophicDG,B,I))\n",
        "print(\"links in II:\",InterclassLinkProportion(TrophicDG,I,I))\n",
        "print(\"links in IT:\",InterclassLinkProportion(TrophicDG,I,T))\n",
        "\n",
        "#Ratio prey/predators\n",
        "print(\"P/R:\",float((len(B)+len(I)))/(len(I)+len(T)))"
      ]
    },
    {
      "cell_type": "code",
      "execution_count": null,
      "metadata": {
        "id": "ReMEGr5QvcNm"
      },
      "outputs": [],
      "source": []
    },
    {
      "cell_type": "code",
      "execution_count": null,
      "metadata": {
        "id": "xkNp9dNrvcNm"
      },
      "outputs": [],
      "source": []
    },
    {
      "cell_type": "code",
      "execution_count": null,
      "metadata": {
        "id": "Gd_vTHUNvcNn"
      },
      "outputs": [],
      "source": []
    }
  ],
  "metadata": {
    "colab": {
      "collapsed_sections": [],
      "name": "cc-1-food-networks-exercise.ipynb",
      "provenance": []
    },
    "kernelspec": {
      "display_name": "Python 3",
      "language": "python",
      "name": "python3"
    },
    "language_info": {
      "codemirror_mode": {
        "name": "ipython",
        "version": 3
      },
      "file_extension": ".py",
      "mimetype": "text/x-python",
      "name": "python",
      "nbconvert_exporter": "python",
      "pygments_lexer": "ipython3",
      "version": "3.12.3"
    }
  },
  "nbformat": 4,
  "nbformat_minor": 0
}
